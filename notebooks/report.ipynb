{
 "cells": [
  {
   "cell_type": "code",
   "execution_count": 1,
   "metadata": {},
   "outputs": [],
   "source": [
    "from datetime import datetime, timedelta\n",
    "from mplsoccer import VerticalPitch\n",
    "from matplotlib import animation\n",
    "import matplotlib.pyplot as plt\n",
    "from pathlib import Path\n",
    "import imageio.v2 as iio\n",
    "from tqdm import tqdm\n",
    "import pandas as pd\n",
    "import matplotlib\n",
    "import zipfile\n",
    "import shutil\n",
    "import time\n",
    "import json\n",
    "import enum\n",
    "from pathlib import Path\n",
    "# set pandas option to show columns of a dataframe\n",
    "pd.set_option('display.max_columns', None)\n",
    "import os"
   ]
  },
  {
   "cell_type": "code",
   "execution_count": null,
   "metadata": {},
   "outputs": [],
   "source": [
    "def wyscout_json_to_df(file_name):\n",
    "    \"\"\"\n",
    "    Function to read a json file from Wyscout and convert it to a pandas dataframe\n",
    "    Parameters:\n",
    "    file_name: str - The path to the json file\n",
    "    Returns:\n",
    "    df: pd.DataFrame - The dataframe containing the data from the json file\n",
    "    \"\"\"\n",
    "    \n",
    "    # Create a directory to extract files to (same as zip file name without extension)\n",
    "    extract_dir = file_name.split(\".\")[0]\n",
    "    os.makedirs(extract_dir, exist_ok=True)  # Create the directory if it doesn't exist\n",
    "\n",
    "    # Unzip the file\n",
    "    with zipfile.ZipFile(file_name, 'r') as zip_ref:\n",
    "        zip_ref.extractall(extract_dir)\n",
    "    \n",
    "    # Construct the full path to the json file\n",
    "    json_name = os.path.join(extract_dir, os.path.basename(extract_dir) + \".json\")\n",
    "\n",
    "    # Read the json file\n",
    "    with open(json_name, encoding='utf8') as f:\n",
    "        js = json.load(f)\n",
    "        df = pd.json_normalize(js['events'])\n",
    "    return df"
   ]
  },
  {
   "cell_type": "code",
   "execution_count": null,
   "metadata": {},
   "outputs": [],
   "source": [
    "\n",
    "#get path of current directory in jupyter\n",
    "current_directory = Path.cwd()\n",
    "current_directory = current_directory.parents[0]\n",
    "\n",
    "\n",
    "data_dir = os.path.join(current_directory,'data','england_games')\n",
    "if not os.path.exists(data_dir):\n",
    "    os.makedirs(data_dir)\n",
    "data_dir = Path(data_dir)\n",
    "\n",
    "\n",
    "#path for matchid's\n",
    "data_path= os.path.join(current_directory,'data')\n",
    "\n",
    "wyscout_path = os.path.join(data_path,'wyscout')\n",
    "input_dir = os.path.join(data_path,'skillcorner')\n",
    "\n",
    "match_id_path = os.path.join(data_path,'matchids.csv')\n",
    "#open matchid file\n",
    "match_id = pd.read_csv(match_id_path)\n",
    "england_match = match_id[(match_id['home'] == 'England') | (match_id['away'] == 'England')]"
   ]
  }
 ],
 "metadata": {
  "kernelspec": {
   "display_name": "Python 3",
   "language": "python",
   "name": "python3"
  },
  "language_info": {
   "codemirror_mode": {
    "name": "ipython",
    "version": 3
   },
   "file_extension": ".py",
   "mimetype": "text/x-python",
   "name": "python",
   "nbconvert_exporter": "python",
   "pygments_lexer": "ipython3",
   "version": "3.12.2"
  }
 },
 "nbformat": 4,
 "nbformat_minor": 2
}
