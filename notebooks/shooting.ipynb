{
 "cells": [
  {
   "cell_type": "code",
   "execution_count": null,
   "metadata": {},
   "outputs": [],
   "source": [
    "from datetime import datetime, timedelta\n",
    "from mplsoccer import VerticalPitch\n",
    "from matplotlib import animation\n",
    "import matplotlib.pyplot as plt\n",
    "from pathlib import Path\n",
    "import imageio.v2 as iio\n",
    "from tqdm import tqdm\n",
    "import pandas as pd\n",
    "import matplotlib\n",
    "import zipfile\n",
    "import shutil\n",
    "import time\n",
    "import json\n",
    "import enum\n",
    "\n",
    "# set pandas option to show columns of a dataframe\n",
    "pd.set_option('display.max_columns', None)"
   ]
  }
 ],
 "metadata": {
  "language_info": {
   "name": "python"
  }
 },
 "nbformat": 4,
 "nbformat_minor": 2
}
